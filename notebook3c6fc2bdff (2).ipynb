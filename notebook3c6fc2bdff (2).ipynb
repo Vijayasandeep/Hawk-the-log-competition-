{
 "cells": [
  {
   "cell_type": "code",
   "execution_count": 1,
   "id": "854ca393",
   "metadata": {
    "_cell_guid": "b1076dfc-b9ad-4769-8c92-a6c4dae69d19",
    "_uuid": "8f2839f25d086af736a60e9eeb907d3b93b6e0e5",
    "execution": {
     "iopub.execute_input": "2022-09-25T05:01:53.291817Z",
     "iopub.status.busy": "2022-09-25T05:01:53.291356Z",
     "iopub.status.idle": "2022-09-25T05:01:53.304142Z",
     "shell.execute_reply": "2022-09-25T05:01:53.302917Z"
    },
    "papermill": {
     "duration": 0.029696,
     "end_time": "2022-09-25T05:01:53.307155",
     "exception": false,
     "start_time": "2022-09-25T05:01:53.277459",
     "status": "completed"
    },
    "tags": []
   },
   "outputs": [
    {
     "name": "stdout",
     "output_type": "stream",
     "text": [
      "/kaggle/input/hawk-the-log/Sample submission .csv\n",
      "/kaggle/input/hawk-the-log/train_data.csv\n",
      "/kaggle/input/hawk-the-log/test_data.csv\n"
     ]
    }
   ],
   "source": [
    "# This Python 3 environment comes with many helpful analytics libraries installed\n",
    "# It is defined by the kaggle/python Docker image: https://github.com/kaggle/docker-python\n",
    "# For example, here's several helpful packages to load\n",
    "\n",
    "import numpy as np # linear algebra\n",
    "import pandas as pd # data processing, CSV file I/O (e.g. pd.read_csv)\n",
    "\n",
    "# Input data files are available in the read-only \"../input/\" directory\n",
    "# For example, running this (by clicking run or pressing Shift+Enter) will list all files under the input directory\n",
    "\n",
    "import os\n",
    "for dirname, _, filenames in os.walk('/kaggle/input'):\n",
    "    for filename in filenames:\n",
    "        print(os.path.join(dirname, filename))\n",
    "\n",
    "# You can write up to 20GB to the current directory (/kaggle/working/) that gets preserved as output when you create a version using \"Save & Run All\" \n",
    "# You can also write temporary files to /kaggle/temp/, but they won't be saved outside of the current session"
   ]
  },
  {
   "cell_type": "code",
   "execution_count": 2,
   "id": "2d3ddf59",
   "metadata": {
    "execution": {
     "iopub.execute_input": "2022-09-25T05:01:53.331212Z",
     "iopub.status.busy": "2022-09-25T05:01:53.330458Z",
     "iopub.status.idle": "2022-09-25T05:01:54.699501Z",
     "shell.execute_reply": "2022-09-25T05:01:54.697948Z"
    },
    "papermill": {
     "duration": 1.385977,
     "end_time": "2022-09-25T05:01:54.704221",
     "exception": false,
     "start_time": "2022-09-25T05:01:53.318244",
     "status": "completed"
    },
    "tags": []
   },
   "outputs": [],
   "source": [
    "train=pd.read_csv('/kaggle/input/hawk-the-log/train_data.csv')"
   ]
  },
  {
   "cell_type": "code",
   "execution_count": 3,
   "id": "31e17865",
   "metadata": {
    "execution": {
     "iopub.execute_input": "2022-09-25T05:01:54.737051Z",
     "iopub.status.busy": "2022-09-25T05:01:54.736274Z",
     "iopub.status.idle": "2022-09-25T05:01:55.136611Z",
     "shell.execute_reply": "2022-09-25T05:01:55.135410Z"
    },
    "papermill": {
     "duration": 0.417418,
     "end_time": "2022-09-25T05:01:55.139527",
     "exception": false,
     "start_time": "2022-09-25T05:01:54.722109",
     "status": "completed"
    },
    "tags": []
   },
   "outputs": [],
   "source": [
    "test=pd.read_csv('/kaggle/input/hawk-the-log/test_data.csv')"
   ]
  },
  {
   "cell_type": "code",
   "execution_count": 4,
   "id": "a432b180",
   "metadata": {
    "execution": {
     "iopub.execute_input": "2022-09-25T05:01:55.163574Z",
     "iopub.status.busy": "2022-09-25T05:01:55.163175Z",
     "iopub.status.idle": "2022-09-25T05:01:55.184890Z",
     "shell.execute_reply": "2022-09-25T05:01:55.183675Z"
    },
    "papermill": {
     "duration": 0.035998,
     "end_time": "2022-09-25T05:01:55.187254",
     "exception": false,
     "start_time": "2022-09-25T05:01:55.151256",
     "status": "completed"
    },
    "tags": []
   },
   "outputs": [
    {
     "data": {
      "text/plain": [
       "0    335595\n",
       "1      4005\n",
       "Name: dissatisfaction, dtype: int64"
      ]
     },
     "execution_count": 4,
     "metadata": {},
     "output_type": "execute_result"
    }
   ],
   "source": [
    "train['dissatisfaction'].value_counts()"
   ]
  },
  {
   "cell_type": "code",
   "execution_count": 5,
   "id": "29f896c3",
   "metadata": {
    "execution": {
     "iopub.execute_input": "2022-09-25T05:01:55.210670Z",
     "iopub.status.busy": "2022-09-25T05:01:55.210272Z",
     "iopub.status.idle": "2022-09-25T05:01:55.220087Z",
     "shell.execute_reply": "2022-09-25T05:01:55.219005Z"
    },
    "papermill": {
     "duration": 0.024269,
     "end_time": "2022-09-25T05:01:55.222412",
     "exception": false,
     "start_time": "2022-09-25T05:01:55.198143",
     "status": "completed"
    },
    "tags": []
   },
   "outputs": [
    {
     "data": {
      "text/plain": [
       "0    109187\n",
       "1      1213\n",
       "Name: dissatisfaction, dtype: int64"
      ]
     },
     "execution_count": 5,
     "metadata": {},
     "output_type": "execute_result"
    }
   ],
   "source": [
    "test['dissatisfaction'].value_counts()"
   ]
  },
  {
   "cell_type": "code",
   "execution_count": 6,
   "id": "7bb5cc03",
   "metadata": {
    "execution": {
     "iopub.execute_input": "2022-09-25T05:01:55.247038Z",
     "iopub.status.busy": "2022-09-25T05:01:55.246327Z",
     "iopub.status.idle": "2022-09-25T05:01:55.358326Z",
     "shell.execute_reply": "2022-09-25T05:01:55.357254Z"
    },
    "papermill": {
     "duration": 0.127044,
     "end_time": "2022-09-25T05:01:55.360713",
     "exception": false,
     "start_time": "2022-09-25T05:01:55.233669",
     "status": "completed"
    },
    "tags": []
   },
   "outputs": [
    {
     "data": {
      "text/plain": [
       "order_id                    0\n",
       "gender                      0\n",
       "order_time                  0\n",
       "allot_time                  0\n",
       "pickup_time              1884\n",
       "delivered_time           4004\n",
       "transport_id                0\n",
       "first_mile_distance         0\n",
       "last_mile_distance          0\n",
       "alloted_orders          12976\n",
       "delivered_orders        13281\n",
       "customer_care_calls        28\n",
       "membership                  0\n",
       "product_importan            0\n",
       "lifetime_order_count       40\n",
       "undelivered_orders      13281\n",
       "dissatisfaction             0\n",
       "dtype: int64"
      ]
     },
     "execution_count": 6,
     "metadata": {},
     "output_type": "execute_result"
    }
   ],
   "source": [
    "train.isnull().sum()"
   ]
  },
  {
   "cell_type": "code",
   "execution_count": 7,
   "id": "146aff2c",
   "metadata": {
    "execution": {
     "iopub.execute_input": "2022-09-25T05:01:55.384884Z",
     "iopub.status.busy": "2022-09-25T05:01:55.384464Z",
     "iopub.status.idle": "2022-09-25T05:01:55.428775Z",
     "shell.execute_reply": "2022-09-25T05:01:55.427570Z"
    },
    "papermill": {
     "duration": 0.059616,
     "end_time": "2022-09-25T05:01:55.431593",
     "exception": false,
     "start_time": "2022-09-25T05:01:55.371977",
     "status": "completed"
    },
    "tags": []
   },
   "outputs": [
    {
     "data": {
      "text/plain": [
       "order_id                   0\n",
       "gender                     0\n",
       "order_time                 0\n",
       "allot_time                 0\n",
       "pickup_time              536\n",
       "delivered_time          1213\n",
       "transport_id               0\n",
       "first_mile_distance        0\n",
       "last_mile_distance         0\n",
       "alloted_orders          3972\n",
       "delivered_orders        4060\n",
       "customer_care_calls        0\n",
       "membership                 0\n",
       "product_importan           0\n",
       "lifetime_order_count      13\n",
       "undelivered_orders      4060\n",
       "dissatisfaction            0\n",
       "dtype: int64"
      ]
     },
     "execution_count": 7,
     "metadata": {},
     "output_type": "execute_result"
    }
   ],
   "source": [
    "test.isnull().sum()"
   ]
  },
  {
   "cell_type": "code",
   "execution_count": 8,
   "id": "1659f290",
   "metadata": {
    "execution": {
     "iopub.execute_input": "2022-09-25T05:01:55.455649Z",
     "iopub.status.busy": "2022-09-25T05:01:55.454955Z",
     "iopub.status.idle": "2022-09-25T05:01:55.582205Z",
     "shell.execute_reply": "2022-09-25T05:01:55.581060Z"
    },
    "papermill": {
     "duration": 0.142392,
     "end_time": "2022-09-25T05:01:55.585105",
     "exception": false,
     "start_time": "2022-09-25T05:01:55.442713",
     "status": "completed"
    },
    "tags": []
   },
   "outputs": [],
   "source": [
    "df=pd.concat([train,test],axis=0)"
   ]
  },
  {
   "cell_type": "code",
   "execution_count": 9,
   "id": "fbd0a96d",
   "metadata": {
    "execution": {
     "iopub.execute_input": "2022-09-25T05:01:55.609639Z",
     "iopub.status.busy": "2022-09-25T05:01:55.608840Z",
     "iopub.status.idle": "2022-09-25T05:01:55.781051Z",
     "shell.execute_reply": "2022-09-25T05:01:55.779824Z"
    },
    "papermill": {
     "duration": 0.188027,
     "end_time": "2022-09-25T05:01:55.784369",
     "exception": false,
     "start_time": "2022-09-25T05:01:55.596342",
     "status": "completed"
    },
    "tags": []
   },
   "outputs": [
    {
     "data": {
      "text/plain": [
       "order_id                   0\n",
       "gender                     0\n",
       "order_time                 0\n",
       "allot_time                 0\n",
       "pickup_time             2420\n",
       "delivered_time          5217\n",
       "transport_id               0\n",
       "first_mile_distance        0\n",
       "last_mile_distance         0\n",
       "alloted_orders           649\n",
       "delivered_orders         855\n",
       "customer_care_calls        0\n",
       "membership                 0\n",
       "product_importan           0\n",
       "lifetime_order_count      51\n",
       "undelivered_orders       855\n",
       "dissatisfaction            0\n",
       "dtype: int64"
      ]
     },
     "execution_count": 9,
     "metadata": {},
     "output_type": "execute_result"
    }
   ],
   "source": [
    "df[df['dissatisfaction']==1].isnull().sum()"
   ]
  },
  {
   "cell_type": "code",
   "execution_count": 10,
   "id": "057866e3",
   "metadata": {
    "execution": {
     "iopub.execute_input": "2022-09-25T05:01:55.808914Z",
     "iopub.status.busy": "2022-09-25T05:01:55.808482Z",
     "iopub.status.idle": "2022-09-25T05:01:55.846343Z",
     "shell.execute_reply": "2022-09-25T05:01:55.845254Z"
    },
    "papermill": {
     "duration": 0.053051,
     "end_time": "2022-09-25T05:01:55.848704",
     "exception": false,
     "start_time": "2022-09-25T05:01:55.795653",
     "status": "completed"
    },
    "tags": []
   },
   "outputs": [
    {
     "data": {
      "text/html": [
       "<div>\n",
       "<style scoped>\n",
       "    .dataframe tbody tr th:only-of-type {\n",
       "        vertical-align: middle;\n",
       "    }\n",
       "\n",
       "    .dataframe tbody tr th {\n",
       "        vertical-align: top;\n",
       "    }\n",
       "\n",
       "    .dataframe thead th {\n",
       "        text-align: right;\n",
       "    }\n",
       "</style>\n",
       "<table border=\"1\" class=\"dataframe\">\n",
       "  <thead>\n",
       "    <tr style=\"text-align: right;\">\n",
       "      <th></th>\n",
       "      <th>order_id</th>\n",
       "      <th>gender</th>\n",
       "      <th>order_time</th>\n",
       "      <th>allot_time</th>\n",
       "      <th>pickup_time</th>\n",
       "      <th>delivered_time</th>\n",
       "      <th>transport_id</th>\n",
       "      <th>first_mile_distance</th>\n",
       "      <th>last_mile_distance</th>\n",
       "      <th>alloted_orders</th>\n",
       "      <th>delivered_orders</th>\n",
       "      <th>customer_care_calls</th>\n",
       "      <th>membership</th>\n",
       "      <th>product_importan</th>\n",
       "      <th>lifetime_order_count</th>\n",
       "      <th>undelivered_orders</th>\n",
       "      <th>dissatisfaction</th>\n",
       "    </tr>\n",
       "  </thead>\n",
       "  <tbody>\n",
       "    <tr>\n",
       "      <th>0</th>\n",
       "      <td>1003450</td>\n",
       "      <td>M</td>\n",
       "      <td>26-01-2021 02:21</td>\n",
       "      <td>26-01-2021 02:21</td>\n",
       "      <td>26-01-2021 02:32</td>\n",
       "      <td>26-01-2021 02:49</td>\n",
       "      <td>11696</td>\n",
       "      <td>15.666</td>\n",
       "      <td>39.75</td>\n",
       "      <td>46.0</td>\n",
       "      <td>46.0</td>\n",
       "      <td>5.0</td>\n",
       "      <td>Normal</td>\n",
       "      <td>low</td>\n",
       "      <td>621.0</td>\n",
       "      <td>0.0</td>\n",
       "      <td>0</td>\n",
       "    </tr>\n",
       "    <tr>\n",
       "      <th>1</th>\n",
       "      <td>1003451</td>\n",
       "      <td>F</td>\n",
       "      <td>26-01-2021 02:33</td>\n",
       "      <td>26-01-2021 02:33</td>\n",
       "      <td>26-01-2021 02:50</td>\n",
       "      <td>26-01-2021 03:11</td>\n",
       "      <td>18117</td>\n",
       "      <td>25.207</td>\n",
       "      <td>41.40</td>\n",
       "      <td>8.0</td>\n",
       "      <td>8.0</td>\n",
       "      <td>4.0</td>\n",
       "      <td>Prime</td>\n",
       "      <td>other</td>\n",
       "      <td>105.0</td>\n",
       "      <td>0.0</td>\n",
       "      <td>0</td>\n",
       "    </tr>\n",
       "    <tr>\n",
       "      <th>2</th>\n",
       "      <td>1003452</td>\n",
       "      <td>M</td>\n",
       "      <td>26-01-2021 02:39</td>\n",
       "      <td>26-01-2021 02:39</td>\n",
       "      <td>26-01-2021 02:56</td>\n",
       "      <td>26-01-2021 03:12</td>\n",
       "      <td>18623</td>\n",
       "      <td>22.074</td>\n",
       "      <td>72.00</td>\n",
       "      <td>1.0</td>\n",
       "      <td>1.0</td>\n",
       "      <td>2.0</td>\n",
       "      <td>Normal</td>\n",
       "      <td>other</td>\n",
       "      <td>66.0</td>\n",
       "      <td>0.0</td>\n",
       "      <td>0</td>\n",
       "    </tr>\n",
       "    <tr>\n",
       "      <th>3</th>\n",
       "      <td>1003453</td>\n",
       "      <td>M</td>\n",
       "      <td>26-01-2021 02:47</td>\n",
       "      <td>26-01-2021 02:48</td>\n",
       "      <td>26-01-2021 03:21</td>\n",
       "      <td>26-01-2021 03:41</td>\n",
       "      <td>15945</td>\n",
       "      <td>21.894</td>\n",
       "      <td>95.70</td>\n",
       "      <td>1.0</td>\n",
       "      <td>1.0</td>\n",
       "      <td>5.0</td>\n",
       "      <td>Prime</td>\n",
       "      <td>low</td>\n",
       "      <td>127.0</td>\n",
       "      <td>0.0</td>\n",
       "      <td>0</td>\n",
       "    </tr>\n",
       "    <tr>\n",
       "      <th>4</th>\n",
       "      <td>1003454</td>\n",
       "      <td>F</td>\n",
       "      <td>26-01-2021 03:06</td>\n",
       "      <td>26-01-2021 03:07</td>\n",
       "      <td>26-01-2021 03:31</td>\n",
       "      <td>26-01-2021 04:00</td>\n",
       "      <td>17589</td>\n",
       "      <td>27.870</td>\n",
       "      <td>60.15</td>\n",
       "      <td>34.0</td>\n",
       "      <td>34.0</td>\n",
       "      <td>0.0</td>\n",
       "      <td>Normal</td>\n",
       "      <td>low</td>\n",
       "      <td>84.0</td>\n",
       "      <td>0.0</td>\n",
       "      <td>0</td>\n",
       "    </tr>\n",
       "    <tr>\n",
       "      <th>...</th>\n",
       "      <td>...</td>\n",
       "      <td>...</td>\n",
       "      <td>...</td>\n",
       "      <td>...</td>\n",
       "      <td>...</td>\n",
       "      <td>...</td>\n",
       "      <td>...</td>\n",
       "      <td>...</td>\n",
       "      <td>...</td>\n",
       "      <td>...</td>\n",
       "      <td>...</td>\n",
       "      <td>...</td>\n",
       "      <td>...</td>\n",
       "      <td>...</td>\n",
       "      <td>...</td>\n",
       "      <td>...</td>\n",
       "      <td>...</td>\n",
       "    </tr>\n",
       "    <tr>\n",
       "      <th>110395</th>\n",
       "      <td>1453445</td>\n",
       "      <td>F</td>\n",
       "      <td>06-02-2021 10:03</td>\n",
       "      <td>06-02-2021 10:03</td>\n",
       "      <td>06-02-2021 10:27</td>\n",
       "      <td>06-02-2021 10:44</td>\n",
       "      <td>1006</td>\n",
       "      <td>5.789</td>\n",
       "      <td>2.85</td>\n",
       "      <td>4.0</td>\n",
       "      <td>4.0</td>\n",
       "      <td>5.0</td>\n",
       "      <td>Normal</td>\n",
       "      <td>other</td>\n",
       "      <td>127.0</td>\n",
       "      <td>0.0</td>\n",
       "      <td>0</td>\n",
       "    </tr>\n",
       "    <tr>\n",
       "      <th>110396</th>\n",
       "      <td>1453446</td>\n",
       "      <td>M</td>\n",
       "      <td>06-02-2021 10:03</td>\n",
       "      <td>06-02-2021 10:03</td>\n",
       "      <td>06-02-2021 10:22</td>\n",
       "      <td>06-02-2021 10:31</td>\n",
       "      <td>279</td>\n",
       "      <td>19.863</td>\n",
       "      <td>17.85</td>\n",
       "      <td>81.0</td>\n",
       "      <td>81.0</td>\n",
       "      <td>3.0</td>\n",
       "      <td>Prime</td>\n",
       "      <td>low</td>\n",
       "      <td>105.0</td>\n",
       "      <td>0.0</td>\n",
       "      <td>0</td>\n",
       "    </tr>\n",
       "    <tr>\n",
       "      <th>110397</th>\n",
       "      <td>1453447</td>\n",
       "      <td>F</td>\n",
       "      <td>06-02-2021 10:03</td>\n",
       "      <td>06-02-2021 10:04</td>\n",
       "      <td>06-02-2021 10:19</td>\n",
       "      <td>06-02-2021 10:26</td>\n",
       "      <td>3161</td>\n",
       "      <td>15.944</td>\n",
       "      <td>24.15</td>\n",
       "      <td>28.0</td>\n",
       "      <td>28.0</td>\n",
       "      <td>4.0</td>\n",
       "      <td>Normal</td>\n",
       "      <td>high</td>\n",
       "      <td>1488.0</td>\n",
       "      <td>0.0</td>\n",
       "      <td>0</td>\n",
       "    </tr>\n",
       "    <tr>\n",
       "      <th>110398</th>\n",
       "      <td>1453448</td>\n",
       "      <td>M</td>\n",
       "      <td>06-02-2021 10:03</td>\n",
       "      <td>06-02-2021 10:03</td>\n",
       "      <td>06-02-2021 10:20</td>\n",
       "      <td>06-02-2021 10:30</td>\n",
       "      <td>9396</td>\n",
       "      <td>28.939</td>\n",
       "      <td>70.20</td>\n",
       "      <td>72.0</td>\n",
       "      <td>72.0</td>\n",
       "      <td>1.0</td>\n",
       "      <td>Prime</td>\n",
       "      <td>high</td>\n",
       "      <td>105.0</td>\n",
       "      <td>0.0</td>\n",
       "      <td>0</td>\n",
       "    </tr>\n",
       "    <tr>\n",
       "      <th>110399</th>\n",
       "      <td>1453449</td>\n",
       "      <td>F</td>\n",
       "      <td>06-02-2021 10:03</td>\n",
       "      <td>06-02-2021 10:03</td>\n",
       "      <td>06-02-2021 10:13</td>\n",
       "      <td>06-02-2021 10:19</td>\n",
       "      <td>2078</td>\n",
       "      <td>18.925</td>\n",
       "      <td>1.35</td>\n",
       "      <td>30.0</td>\n",
       "      <td>30.0</td>\n",
       "      <td>4.0</td>\n",
       "      <td>Prime</td>\n",
       "      <td>high</td>\n",
       "      <td>108.0</td>\n",
       "      <td>0.0</td>\n",
       "      <td>0</td>\n",
       "    </tr>\n",
       "  </tbody>\n",
       "</table>\n",
       "<p>450000 rows × 17 columns</p>\n",
       "</div>"
      ],
      "text/plain": [
       "        order_id gender        order_time        allot_time       pickup_time  \\\n",
       "0        1003450      M  26-01-2021 02:21  26-01-2021 02:21  26-01-2021 02:32   \n",
       "1        1003451      F  26-01-2021 02:33  26-01-2021 02:33  26-01-2021 02:50   \n",
       "2        1003452      M  26-01-2021 02:39  26-01-2021 02:39  26-01-2021 02:56   \n",
       "3        1003453      M  26-01-2021 02:47  26-01-2021 02:48  26-01-2021 03:21   \n",
       "4        1003454      F  26-01-2021 03:06  26-01-2021 03:07  26-01-2021 03:31   \n",
       "...          ...    ...               ...               ...               ...   \n",
       "110395   1453445      F  06-02-2021 10:03  06-02-2021 10:03  06-02-2021 10:27   \n",
       "110396   1453446      M  06-02-2021 10:03  06-02-2021 10:03  06-02-2021 10:22   \n",
       "110397   1453447      F  06-02-2021 10:03  06-02-2021 10:04  06-02-2021 10:19   \n",
       "110398   1453448      M  06-02-2021 10:03  06-02-2021 10:03  06-02-2021 10:20   \n",
       "110399   1453449      F  06-02-2021 10:03  06-02-2021 10:03  06-02-2021 10:13   \n",
       "\n",
       "          delivered_time  transport_id  first_mile_distance  \\\n",
       "0       26-01-2021 02:49         11696               15.666   \n",
       "1       26-01-2021 03:11         18117               25.207   \n",
       "2       26-01-2021 03:12         18623               22.074   \n",
       "3       26-01-2021 03:41         15945               21.894   \n",
       "4       26-01-2021 04:00         17589               27.870   \n",
       "...                  ...           ...                  ...   \n",
       "110395  06-02-2021 10:44          1006                5.789   \n",
       "110396  06-02-2021 10:31           279               19.863   \n",
       "110397  06-02-2021 10:26          3161               15.944   \n",
       "110398  06-02-2021 10:30          9396               28.939   \n",
       "110399  06-02-2021 10:19          2078               18.925   \n",
       "\n",
       "        last_mile_distance  alloted_orders  delivered_orders  \\\n",
       "0                    39.75            46.0              46.0   \n",
       "1                    41.40             8.0               8.0   \n",
       "2                    72.00             1.0               1.0   \n",
       "3                    95.70             1.0               1.0   \n",
       "4                    60.15            34.0              34.0   \n",
       "...                    ...             ...               ...   \n",
       "110395                2.85             4.0               4.0   \n",
       "110396               17.85            81.0              81.0   \n",
       "110397               24.15            28.0              28.0   \n",
       "110398               70.20            72.0              72.0   \n",
       "110399                1.35            30.0              30.0   \n",
       "\n",
       "        customer_care_calls membership product_importan  lifetime_order_count  \\\n",
       "0                       5.0     Normal              low                 621.0   \n",
       "1                       4.0      Prime            other                 105.0   \n",
       "2                       2.0     Normal            other                  66.0   \n",
       "3                       5.0      Prime              low                 127.0   \n",
       "4                       0.0     Normal              low                  84.0   \n",
       "...                     ...        ...              ...                   ...   \n",
       "110395                  5.0     Normal            other                 127.0   \n",
       "110396                  3.0      Prime              low                 105.0   \n",
       "110397                  4.0     Normal             high                1488.0   \n",
       "110398                  1.0      Prime             high                 105.0   \n",
       "110399                  4.0      Prime             high                 108.0   \n",
       "\n",
       "        undelivered_orders  dissatisfaction  \n",
       "0                      0.0                0  \n",
       "1                      0.0                0  \n",
       "2                      0.0                0  \n",
       "3                      0.0                0  \n",
       "4                      0.0                0  \n",
       "...                    ...              ...  \n",
       "110395                 0.0                0  \n",
       "110396                 0.0                0  \n",
       "110397                 0.0                0  \n",
       "110398                 0.0                0  \n",
       "110399                 0.0                0  \n",
       "\n",
       "[450000 rows x 17 columns]"
      ]
     },
     "execution_count": 10,
     "metadata": {},
     "output_type": "execute_result"
    }
   ],
   "source": [
    "df"
   ]
  },
  {
   "cell_type": "code",
   "execution_count": 11,
   "id": "d3399b42",
   "metadata": {
    "execution": {
     "iopub.execute_input": "2022-09-25T05:01:55.874129Z",
     "iopub.status.busy": "2022-09-25T05:01:55.873443Z",
     "iopub.status.idle": "2022-09-25T05:01:55.885963Z",
     "shell.execute_reply": "2022-09-25T05:01:55.884769Z"
    },
    "papermill": {
     "duration": 0.028106,
     "end_time": "2022-09-25T05:01:55.888454",
     "exception": false,
     "start_time": "2022-09-25T05:01:55.860348",
     "status": "completed"
    },
    "tags": []
   },
   "outputs": [
    {
     "data": {
      "text/plain": [
       "0    444782\n",
       "1      5218\n",
       "Name: dissatisfaction, dtype: int64"
      ]
     },
     "execution_count": 11,
     "metadata": {},
     "output_type": "execute_result"
    }
   ],
   "source": [
    "df['dissatisfaction'].value_counts()"
   ]
  },
  {
   "cell_type": "code",
   "execution_count": 12,
   "id": "e3e032c7",
   "metadata": {
    "execution": {
     "iopub.execute_input": "2022-09-25T05:01:55.916294Z",
     "iopub.status.busy": "2022-09-25T05:01:55.914513Z",
     "iopub.status.idle": "2022-09-25T05:01:56.029929Z",
     "shell.execute_reply": "2022-09-25T05:01:56.028996Z"
    },
    "papermill": {
     "duration": 0.131685,
     "end_time": "2022-09-25T05:01:56.032502",
     "exception": false,
     "start_time": "2022-09-25T05:01:55.900817",
     "status": "completed"
    },
    "tags": []
   },
   "outputs": [],
   "source": [
    "df['alloted_orders'] = df['alloted_orders'].fillna(df['alloted_orders'].mode())\n",
    "df['delivered_orders'] = df['delivered_orders'].fillna(df['delivered_orders'].mode())\n",
    "df['customer_care_calls'] = df['customer_care_calls'].fillna(df['customer_care_calls'].mode())\n",
    "df['lifetime_order_count'] = df['lifetime_order_count'].fillna(df['lifetime_order_count'].mode())\n",
    "df['undelivered_orders'] = df['undelivered_orders'].fillna(df['undelivered_orders'].mode())"
   ]
  },
  {
   "cell_type": "code",
   "execution_count": 13,
   "id": "f54a48bc",
   "metadata": {
    "execution": {
     "iopub.execute_input": "2022-09-25T05:01:56.057874Z",
     "iopub.status.busy": "2022-09-25T05:01:56.057462Z",
     "iopub.status.idle": "2022-09-25T05:01:56.086823Z",
     "shell.execute_reply": "2022-09-25T05:01:56.085708Z"
    },
    "papermill": {
     "duration": 0.045754,
     "end_time": "2022-09-25T05:01:56.090062",
     "exception": false,
     "start_time": "2022-09-25T05:01:56.044308",
     "status": "completed"
    },
    "tags": []
   },
   "outputs": [],
   "source": [
    "test['delivered_orders'] = test['delivered_orders'].fillna(test['delivered_orders'].mode())\n",
    "test['undelivered_orders'] = test['undelivered_orders'].fillna(test['undelivered_orders'].mode())\n",
    "test['alloted_orders'] = test['alloted_orders'].fillna(test['alloted_orders'].mode())\n",
    "test['lifetime_order_count'] = test['lifetime_order_count'].fillna(test['lifetime_order_count'].mode())"
   ]
  },
  {
   "cell_type": "code",
   "execution_count": 14,
   "id": "f9a05690",
   "metadata": {
    "execution": {
     "iopub.execute_input": "2022-09-25T05:01:56.115617Z",
     "iopub.status.busy": "2022-09-25T05:01:56.115232Z",
     "iopub.status.idle": "2022-09-25T05:01:56.154723Z",
     "shell.execute_reply": "2022-09-25T05:01:56.153557Z"
    },
    "papermill": {
     "duration": 0.054891,
     "end_time": "2022-09-25T05:01:56.157056",
     "exception": false,
     "start_time": "2022-09-25T05:01:56.102165",
     "status": "completed"
    },
    "tags": []
   },
   "outputs": [
    {
     "data": {
      "text/html": [
       "<div>\n",
       "<style scoped>\n",
       "    .dataframe tbody tr th:only-of-type {\n",
       "        vertical-align: middle;\n",
       "    }\n",
       "\n",
       "    .dataframe tbody tr th {\n",
       "        vertical-align: top;\n",
       "    }\n",
       "\n",
       "    .dataframe thead th {\n",
       "        text-align: right;\n",
       "    }\n",
       "</style>\n",
       "<table border=\"1\" class=\"dataframe\">\n",
       "  <thead>\n",
       "    <tr style=\"text-align: right;\">\n",
       "      <th></th>\n",
       "      <th>order_id</th>\n",
       "      <th>gender</th>\n",
       "      <th>order_time</th>\n",
       "      <th>allot_time</th>\n",
       "      <th>pickup_time</th>\n",
       "      <th>delivered_time</th>\n",
       "      <th>transport_id</th>\n",
       "      <th>first_mile_distance</th>\n",
       "      <th>last_mile_distance</th>\n",
       "      <th>alloted_orders</th>\n",
       "      <th>delivered_orders</th>\n",
       "      <th>customer_care_calls</th>\n",
       "      <th>membership</th>\n",
       "      <th>product_importan</th>\n",
       "      <th>lifetime_order_count</th>\n",
       "      <th>undelivered_orders</th>\n",
       "      <th>dissatisfaction</th>\n",
       "    </tr>\n",
       "  </thead>\n",
       "  <tbody>\n",
       "    <tr>\n",
       "      <th>20</th>\n",
       "      <td>1003470</td>\n",
       "      <td>M</td>\n",
       "      <td>26-01-2021 03:28</td>\n",
       "      <td>26-01-2021 04:09</td>\n",
       "      <td>27-01-2021 03:59</td>\n",
       "      <td>27-01-2021 04:15</td>\n",
       "      <td>12885</td>\n",
       "      <td>28.438</td>\n",
       "      <td>102.15</td>\n",
       "      <td>29.0</td>\n",
       "      <td>29.0</td>\n",
       "      <td>2.0</td>\n",
       "      <td>Normal</td>\n",
       "      <td>low</td>\n",
       "      <td>449.0</td>\n",
       "      <td>0.0</td>\n",
       "      <td>1</td>\n",
       "    </tr>\n",
       "    <tr>\n",
       "      <th>68</th>\n",
       "      <td>1003518</td>\n",
       "      <td>F</td>\n",
       "      <td>26-01-2021 03:45</td>\n",
       "      <td>26-01-2021 03:45</td>\n",
       "      <td>NaN</td>\n",
       "      <td>NaN</td>\n",
       "      <td>17557</td>\n",
       "      <td>8.617</td>\n",
       "      <td>39.45</td>\n",
       "      <td>13.0</td>\n",
       "      <td>13.0</td>\n",
       "      <td>4.0</td>\n",
       "      <td>Prime</td>\n",
       "      <td>high</td>\n",
       "      <td>168.0</td>\n",
       "      <td>0.0</td>\n",
       "      <td>1</td>\n",
       "    </tr>\n",
       "    <tr>\n",
       "      <th>100</th>\n",
       "      <td>1003550</td>\n",
       "      <td>M</td>\n",
       "      <td>26-01-2021 03:54</td>\n",
       "      <td>26-01-2021 05:29</td>\n",
       "      <td>NaN</td>\n",
       "      <td>NaN</td>\n",
       "      <td>2391</td>\n",
       "      <td>29.217</td>\n",
       "      <td>78.00</td>\n",
       "      <td>118.0</td>\n",
       "      <td>114.0</td>\n",
       "      <td>4.0</td>\n",
       "      <td>Normal</td>\n",
       "      <td>high</td>\n",
       "      <td>860.0</td>\n",
       "      <td>4.0</td>\n",
       "      <td>1</td>\n",
       "    </tr>\n",
       "    <tr>\n",
       "      <th>163</th>\n",
       "      <td>1003613</td>\n",
       "      <td>F</td>\n",
       "      <td>26-01-2021 04:11</td>\n",
       "      <td>26-01-2021 04:12</td>\n",
       "      <td>NaN</td>\n",
       "      <td>NaN</td>\n",
       "      <td>15229</td>\n",
       "      <td>21.287</td>\n",
       "      <td>6.75</td>\n",
       "      <td>55.0</td>\n",
       "      <td>52.0</td>\n",
       "      <td>1.0</td>\n",
       "      <td>Normal</td>\n",
       "      <td>low</td>\n",
       "      <td>256.0</td>\n",
       "      <td>3.0</td>\n",
       "      <td>1</td>\n",
       "    </tr>\n",
       "    <tr>\n",
       "      <th>295</th>\n",
       "      <td>1003745</td>\n",
       "      <td>M</td>\n",
       "      <td>26-01-2021 04:39</td>\n",
       "      <td>26-01-2021 04:39</td>\n",
       "      <td>NaN</td>\n",
       "      <td>NaN</td>\n",
       "      <td>2373</td>\n",
       "      <td>16.053</td>\n",
       "      <td>72.60</td>\n",
       "      <td>104.0</td>\n",
       "      <td>104.0</td>\n",
       "      <td>5.0</td>\n",
       "      <td>Prime</td>\n",
       "      <td>high</td>\n",
       "      <td>3282.0</td>\n",
       "      <td>0.0</td>\n",
       "      <td>1</td>\n",
       "    </tr>\n",
       "    <tr>\n",
       "      <th>...</th>\n",
       "      <td>...</td>\n",
       "      <td>...</td>\n",
       "      <td>...</td>\n",
       "      <td>...</td>\n",
       "      <td>...</td>\n",
       "      <td>...</td>\n",
       "      <td>...</td>\n",
       "      <td>...</td>\n",
       "      <td>...</td>\n",
       "      <td>...</td>\n",
       "      <td>...</td>\n",
       "      <td>...</td>\n",
       "      <td>...</td>\n",
       "      <td>...</td>\n",
       "      <td>...</td>\n",
       "      <td>...</td>\n",
       "      <td>...</td>\n",
       "    </tr>\n",
       "    <tr>\n",
       "      <th>110138</th>\n",
       "      <td>1453188</td>\n",
       "      <td>M</td>\n",
       "      <td>06-02-2021 09:50</td>\n",
       "      <td>06-02-2021 10:42</td>\n",
       "      <td>NaN</td>\n",
       "      <td>NaN</td>\n",
       "      <td>3027</td>\n",
       "      <td>17.963</td>\n",
       "      <td>30.00</td>\n",
       "      <td>215.0</td>\n",
       "      <td>214.0</td>\n",
       "      <td>4.0</td>\n",
       "      <td>Normal</td>\n",
       "      <td>high</td>\n",
       "      <td>975.0</td>\n",
       "      <td>1.0</td>\n",
       "      <td>1</td>\n",
       "    </tr>\n",
       "    <tr>\n",
       "      <th>110322</th>\n",
       "      <td>1453372</td>\n",
       "      <td>F</td>\n",
       "      <td>06-02-2021 09:59</td>\n",
       "      <td>06-02-2021 10:00</td>\n",
       "      <td>06-02-2021 10:19</td>\n",
       "      <td>NaN</td>\n",
       "      <td>2344</td>\n",
       "      <td>22.022</td>\n",
       "      <td>38.40</td>\n",
       "      <td>89.0</td>\n",
       "      <td>88.0</td>\n",
       "      <td>1.0</td>\n",
       "      <td>Normal</td>\n",
       "      <td>low</td>\n",
       "      <td>176.0</td>\n",
       "      <td>1.0</td>\n",
       "      <td>1</td>\n",
       "    </tr>\n",
       "    <tr>\n",
       "      <th>110328</th>\n",
       "      <td>1453378</td>\n",
       "      <td>M</td>\n",
       "      <td>06-02-2021 09:59</td>\n",
       "      <td>06-02-2021 09:59</td>\n",
       "      <td>06-02-2021 10:09</td>\n",
       "      <td>NaN</td>\n",
       "      <td>11998</td>\n",
       "      <td>16.601</td>\n",
       "      <td>112.50</td>\n",
       "      <td>314.0</td>\n",
       "      <td>312.0</td>\n",
       "      <td>5.0</td>\n",
       "      <td>Normal</td>\n",
       "      <td>high</td>\n",
       "      <td>437.0</td>\n",
       "      <td>2.0</td>\n",
       "      <td>1</td>\n",
       "    </tr>\n",
       "    <tr>\n",
       "      <th>110332</th>\n",
       "      <td>1453382</td>\n",
       "      <td>F</td>\n",
       "      <td>06-02-2021 09:59</td>\n",
       "      <td>06-02-2021 10:04</td>\n",
       "      <td>NaN</td>\n",
       "      <td>NaN</td>\n",
       "      <td>2583</td>\n",
       "      <td>9.083</td>\n",
       "      <td>125.85</td>\n",
       "      <td>106.0</td>\n",
       "      <td>106.0</td>\n",
       "      <td>2.0</td>\n",
       "      <td>Prime</td>\n",
       "      <td>low</td>\n",
       "      <td>133.0</td>\n",
       "      <td>0.0</td>\n",
       "      <td>1</td>\n",
       "    </tr>\n",
       "    <tr>\n",
       "      <th>110360</th>\n",
       "      <td>1453410</td>\n",
       "      <td>M</td>\n",
       "      <td>06-02-2021 10:01</td>\n",
       "      <td>06-02-2021 10:01</td>\n",
       "      <td>NaN</td>\n",
       "      <td>NaN</td>\n",
       "      <td>8696</td>\n",
       "      <td>12.926</td>\n",
       "      <td>75.30</td>\n",
       "      <td>132.0</td>\n",
       "      <td>131.0</td>\n",
       "      <td>3.0</td>\n",
       "      <td>Normal</td>\n",
       "      <td>other</td>\n",
       "      <td>252.0</td>\n",
       "      <td>1.0</td>\n",
       "      <td>1</td>\n",
       "    </tr>\n",
       "  </tbody>\n",
       "</table>\n",
       "<p>5218 rows × 17 columns</p>\n",
       "</div>"
      ],
      "text/plain": [
       "        order_id gender        order_time        allot_time       pickup_time  \\\n",
       "20       1003470      M  26-01-2021 03:28  26-01-2021 04:09  27-01-2021 03:59   \n",
       "68       1003518      F  26-01-2021 03:45  26-01-2021 03:45               NaN   \n",
       "100      1003550      M  26-01-2021 03:54  26-01-2021 05:29               NaN   \n",
       "163      1003613      F  26-01-2021 04:11  26-01-2021 04:12               NaN   \n",
       "295      1003745      M  26-01-2021 04:39  26-01-2021 04:39               NaN   \n",
       "...          ...    ...               ...               ...               ...   \n",
       "110138   1453188      M  06-02-2021 09:50  06-02-2021 10:42               NaN   \n",
       "110322   1453372      F  06-02-2021 09:59  06-02-2021 10:00  06-02-2021 10:19   \n",
       "110328   1453378      M  06-02-2021 09:59  06-02-2021 09:59  06-02-2021 10:09   \n",
       "110332   1453382      F  06-02-2021 09:59  06-02-2021 10:04               NaN   \n",
       "110360   1453410      M  06-02-2021 10:01  06-02-2021 10:01               NaN   \n",
       "\n",
       "          delivered_time  transport_id  first_mile_distance  \\\n",
       "20      27-01-2021 04:15         12885               28.438   \n",
       "68                   NaN         17557                8.617   \n",
       "100                  NaN          2391               29.217   \n",
       "163                  NaN         15229               21.287   \n",
       "295                  NaN          2373               16.053   \n",
       "...                  ...           ...                  ...   \n",
       "110138               NaN          3027               17.963   \n",
       "110322               NaN          2344               22.022   \n",
       "110328               NaN         11998               16.601   \n",
       "110332               NaN          2583                9.083   \n",
       "110360               NaN          8696               12.926   \n",
       "\n",
       "        last_mile_distance  alloted_orders  delivered_orders  \\\n",
       "20                  102.15            29.0              29.0   \n",
       "68                   39.45            13.0              13.0   \n",
       "100                  78.00           118.0             114.0   \n",
       "163                   6.75            55.0              52.0   \n",
       "295                  72.60           104.0             104.0   \n",
       "...                    ...             ...               ...   \n",
       "110138               30.00           215.0             214.0   \n",
       "110322               38.40            89.0              88.0   \n",
       "110328              112.50           314.0             312.0   \n",
       "110332              125.85           106.0             106.0   \n",
       "110360               75.30           132.0             131.0   \n",
       "\n",
       "        customer_care_calls membership product_importan  lifetime_order_count  \\\n",
       "20                      2.0     Normal              low                 449.0   \n",
       "68                      4.0      Prime             high                 168.0   \n",
       "100                     4.0     Normal             high                 860.0   \n",
       "163                     1.0     Normal              low                 256.0   \n",
       "295                     5.0      Prime             high                3282.0   \n",
       "...                     ...        ...              ...                   ...   \n",
       "110138                  4.0     Normal             high                 975.0   \n",
       "110322                  1.0     Normal              low                 176.0   \n",
       "110328                  5.0     Normal             high                 437.0   \n",
       "110332                  2.0      Prime              low                 133.0   \n",
       "110360                  3.0     Normal            other                 252.0   \n",
       "\n",
       "        undelivered_orders  dissatisfaction  \n",
       "20                     0.0                1  \n",
       "68                     0.0                1  \n",
       "100                    4.0                1  \n",
       "163                    3.0                1  \n",
       "295                    0.0                1  \n",
       "...                    ...              ...  \n",
       "110138                 1.0                1  \n",
       "110322                 1.0                1  \n",
       "110328                 2.0                1  \n",
       "110332                 0.0                1  \n",
       "110360                 1.0                1  \n",
       "\n",
       "[5218 rows x 17 columns]"
      ]
     },
     "execution_count": 14,
     "metadata": {},
     "output_type": "execute_result"
    }
   ],
   "source": [
    "df[df['dissatisfaction']==1]"
   ]
  },
  {
   "cell_type": "code",
   "execution_count": 15,
   "id": "89bb0fe5",
   "metadata": {
    "execution": {
     "iopub.execute_input": "2022-09-25T05:01:56.183512Z",
     "iopub.status.busy": "2022-09-25T05:01:56.182693Z",
     "iopub.status.idle": "2022-09-25T05:01:56.229786Z",
     "shell.execute_reply": "2022-09-25T05:01:56.228601Z"
    },
    "papermill": {
     "duration": 0.063115,
     "end_time": "2022-09-25T05:01:56.232365",
     "exception": false,
     "start_time": "2022-09-25T05:01:56.169250",
     "status": "completed"
    },
    "tags": []
   },
   "outputs": [],
   "source": [
    "df=df.drop(columns=['pickup_time','delivered_time'])\n",
    "test=test.drop(columns=['pickup_time','delivered_time'])"
   ]
  },
  {
   "cell_type": "code",
   "execution_count": null,
   "id": "b302db13",
   "metadata": {
    "papermill": {
     "duration": 0.011756,
     "end_time": "2022-09-25T05:01:56.256278",
     "exception": false,
     "start_time": "2022-09-25T05:01:56.244522",
     "status": "completed"
    },
    "tags": []
   },
   "outputs": [],
   "source": []
  },
  {
   "cell_type": "code",
   "execution_count": 16,
   "id": "2cc5c85a",
   "metadata": {
    "execution": {
     "iopub.execute_input": "2022-09-25T05:01:56.282046Z",
     "iopub.status.busy": "2022-09-25T05:01:56.281625Z",
     "iopub.status.idle": "2022-09-25T05:01:58.848354Z",
     "shell.execute_reply": "2022-09-25T05:01:58.847099Z"
    },
    "papermill": {
     "duration": 2.583116,
     "end_time": "2022-09-25T05:01:58.851418",
     "exception": false,
     "start_time": "2022-09-25T05:01:56.268302",
     "status": "completed"
    },
    "tags": []
   },
   "outputs": [],
   "source": [
    "df.order_time=pd.to_datetime(df.order_time)\n",
    "df.allot_time=pd.to_datetime(df.allot_time)\n",
    "test.order_time=pd.to_datetime(test.order_time)\n",
    "test.allot_time=pd.to_datetime(test.allot_time)"
   ]
  },
  {
   "cell_type": "code",
   "execution_count": 17,
   "id": "14924a11",
   "metadata": {
    "execution": {
     "iopub.execute_input": "2022-09-25T05:01:58.880901Z",
     "iopub.status.busy": "2022-09-25T05:01:58.880469Z",
     "iopub.status.idle": "2022-09-25T05:01:58.900150Z",
     "shell.execute_reply": "2022-09-25T05:01:58.899280Z"
    },
    "papermill": {
     "duration": 0.037538,
     "end_time": "2022-09-25T05:01:58.902662",
     "exception": false,
     "start_time": "2022-09-25T05:01:58.865124",
     "status": "completed"
    },
    "tags": []
   },
   "outputs": [],
   "source": [
    "df['order_allot_time']=df['allot_time']-df['order_time']\n",
    "df['order_allot_time']=df['order_allot_time'].dt.total_seconds()\n",
    "test['order_allot_time']=test['allot_time']-test['order_time']\n",
    "test['order_allot_time']=test['order_allot_time'].dt.total_seconds()\n"
   ]
  },
  {
   "cell_type": "code",
   "execution_count": 18,
   "id": "08bd1b73",
   "metadata": {
    "execution": {
     "iopub.execute_input": "2022-09-25T05:01:58.929849Z",
     "iopub.status.busy": "2022-09-25T05:01:58.928487Z",
     "iopub.status.idle": "2022-09-25T05:01:59.035397Z",
     "shell.execute_reply": "2022-09-25T05:01:59.034446Z"
    },
    "papermill": {
     "duration": 0.12311,
     "end_time": "2022-09-25T05:01:59.038004",
     "exception": false,
     "start_time": "2022-09-25T05:01:58.914894",
     "status": "completed"
    },
    "tags": []
   },
   "outputs": [],
   "source": [
    "df=df.drop(columns=['order_time','allot_time'])\n",
    "test=test.drop(columns=['order_time','allot_time'])"
   ]
  },
  {
   "cell_type": "code",
   "execution_count": 19,
   "id": "261b0d3e",
   "metadata": {
    "execution": {
     "iopub.execute_input": "2022-09-25T05:01:59.064932Z",
     "iopub.status.busy": "2022-09-25T05:01:59.064107Z",
     "iopub.status.idle": "2022-09-25T05:02:00.575060Z",
     "shell.execute_reply": "2022-09-25T05:02:00.573763Z"
    },
    "papermill": {
     "duration": 1.527734,
     "end_time": "2022-09-25T05:02:00.577922",
     "exception": false,
     "start_time": "2022-09-25T05:01:59.050188",
     "status": "completed"
    },
    "tags": []
   },
   "outputs": [],
   "source": [
    "from sklearn.preprocessing import LabelEncoder\n",
    "Le=LabelEncoder()\n",
    "df['gender']=Le.fit_transform(df['gender'])\n",
    "df['membership']=Le.fit_transform(df['membership'])\n",
    "df['product_importan']=Le.fit_transform(df['product_importan'])\n",
    "test['gender']=Le.fit_transform(test['gender'])\n",
    "test['membership']=Le.fit_transform(test['membership'])\n",
    "test['product_importan']=Le.fit_transform(test['product_importan'])\n"
   ]
  },
  {
   "cell_type": "code",
   "execution_count": 20,
   "id": "cc1d0f57",
   "metadata": {
    "execution": {
     "iopub.execute_input": "2022-09-25T05:02:00.603993Z",
     "iopub.status.busy": "2022-09-25T05:02:00.603536Z",
     "iopub.status.idle": "2022-09-25T05:02:00.617869Z",
     "shell.execute_reply": "2022-09-25T05:02:00.616611Z"
    },
    "papermill": {
     "duration": 0.030259,
     "end_time": "2022-09-25T05:02:00.620284",
     "exception": false,
     "start_time": "2022-09-25T05:02:00.590025",
     "status": "completed"
    },
    "tags": []
   },
   "outputs": [
    {
     "data": {
      "text/plain": [
       "0    444782\n",
       "1      5218\n",
       "Name: dissatisfaction, dtype: int64"
      ]
     },
     "execution_count": 20,
     "metadata": {},
     "output_type": "execute_result"
    }
   ],
   "source": [
    "df['dissatisfaction'].value_counts()"
   ]
  },
  {
   "cell_type": "code",
   "execution_count": 21,
   "id": "1a847ec0",
   "metadata": {
    "execution": {
     "iopub.execute_input": "2022-09-25T05:02:00.647083Z",
     "iopub.status.busy": "2022-09-25T05:02:00.646570Z",
     "iopub.status.idle": "2022-09-25T05:02:01.059538Z",
     "shell.execute_reply": "2022-09-25T05:02:01.058435Z"
    },
    "papermill": {
     "duration": 0.429776,
     "end_time": "2022-09-25T05:02:01.062359",
     "exception": false,
     "start_time": "2022-09-25T05:02:00.632583",
     "status": "completed"
    },
    "tags": []
   },
   "outputs": [
    {
     "data": {
      "text/plain": [
       "<AxesSubplot:>"
      ]
     },
     "execution_count": 21,
     "metadata": {},
     "output_type": "execute_result"
    },
    {
     "data": {
      "image/png": "[encoded data removed]",
      "text/plain": [
       "<Figure size 432x288 with 1 Axes>"
      ]
     },
     "metadata": {
      "needs_background": "light"
     },
     "output_type": "display_data"
    }
   ],
   "source": [
    "import seaborn as sns\n",
    "df['dissatisfaction'].hist(grid='False')"
   ]
  },
  {
   "cell_type": "code",
   "execution_count": 22,
   "id": "c532bb39",
   "metadata": {
    "execution": {
     "iopub.execute_input": "2022-09-25T05:02:01.090451Z",
     "iopub.status.busy": "2022-09-25T05:02:01.089960Z",
     "iopub.status.idle": "2022-09-25T05:02:01.103359Z",
     "shell.execute_reply": "2022-09-25T05:02:01.101948Z"
    },
    "papermill": {
     "duration": 0.030596,
     "end_time": "2022-09-25T05:02:01.105928",
     "exception": false,
     "start_time": "2022-09-25T05:02:01.075332",
     "status": "completed"
    },
    "tags": []
   },
   "outputs": [
    {
     "data": {
      "text/plain": [
       "9.124265739121313"
      ]
     },
     "execution_count": 22,
     "metadata": {},
     "output_type": "execute_result"
    }
   ],
   "source": [
    "df['dissatisfaction'].skew()"
   ]
  },
  {
   "cell_type": "code",
   "execution_count": 23,
   "id": "e1d16305",
   "metadata": {
    "execution": {
     "iopub.execute_input": "2022-09-25T05:02:01.133946Z",
     "iopub.status.busy": "2022-09-25T05:02:01.133430Z",
     "iopub.status.idle": "2022-09-25T05:02:01.220890Z",
     "shell.execute_reply": "2022-09-25T05:02:01.219616Z"
    },
    "papermill": {
     "duration": 0.104747,
     "end_time": "2022-09-25T05:02:01.223666",
     "exception": false,
     "start_time": "2022-09-25T05:02:01.118919",
     "status": "completed"
    },
    "tags": []
   },
   "outputs": [],
   "source": [
    "df['total_distance']=df['first_mile_distance']+df['last_mile_distance']\n",
    "df['orders_count']=df['alloted_orders']-df['delivered_orders']\n",
    "df=df.drop(columns=['first_mile_distance','last_mile_distance','alloted_orders','delivered_orders'])\n",
    "test['total_distance']=test['first_mile_distance']+test['last_mile_distance']\n",
    "test['orders_count']=test['alloted_orders']-test['delivered_orders']\n",
    "test=test.drop(columns=['first_mile_distance','last_mile_distance','alloted_orders','delivered_orders'])\n"
   ]
  },
  {
   "cell_type": "code",
   "execution_count": 24,
   "id": "acfb8147",
   "metadata": {
    "execution": {
     "iopub.execute_input": "2022-09-25T05:02:01.250950Z",
     "iopub.status.busy": "2022-09-25T05:02:01.250541Z",
     "iopub.status.idle": "2022-09-25T05:02:01.263739Z",
     "shell.execute_reply": "2022-09-25T05:02:01.262675Z"
    },
    "papermill": {
     "duration": 0.029537,
     "end_time": "2022-09-25T05:02:01.266093",
     "exception": false,
     "start_time": "2022-09-25T05:02:01.236556",
     "status": "completed"
    },
    "tags": []
   },
   "outputs": [
    {
     "data": {
      "text/plain": [
       "0    444782\n",
       "1      5218\n",
       "Name: dissatisfaction, dtype: int64"
      ]
     },
     "execution_count": 24,
     "metadata": {},
     "output_type": "execute_result"
    }
   ],
   "source": [
    "df['dissatisfaction'].value_counts()"
   ]
  },
  {
   "cell_type": "code",
   "execution_count": 25,
   "id": "518f6f36",
   "metadata": {
    "execution": {
     "iopub.execute_input": "2022-09-25T05:02:01.294473Z",
     "iopub.status.busy": "2022-09-25T05:02:01.294069Z",
     "iopub.status.idle": "2022-09-25T05:02:02.135826Z",
     "shell.execute_reply": "2022-09-25T05:02:02.134725Z"
    },
    "papermill": {
     "duration": 0.859054,
     "end_time": "2022-09-25T05:02:02.138577",
     "exception": false,
     "start_time": "2022-09-25T05:02:01.279523",
     "status": "completed"
    },
    "tags": []
   },
   "outputs": [
    {
     "name": "stderr",
     "output_type": "stream",
     "text": [
      "/opt/conda/lib/python3.7/site-packages/seaborn/distributions.py:2619: FutureWarning: `distplot` is a deprecated function and will be removed in a future version. Please adapt your code to use either `displot` (a figure-level function with similar flexibility) or `histplot` (an axes-level function for histograms).\n",
      "  warnings.warn(msg, FutureWarning)\n"
     ]
    },
    {
     "data": {
      "text/plain": [
       "<AxesSubplot:xlabel='total_distance', ylabel='Density'>"
      ]
     },
     "execution_count": 25,
     "metadata": {},
     "output_type": "execute_result"
    },
    {
     "data": {
      "image/png": "[encoded data removed]",
      "text/plain": [
       "<Figure size 432x288 with 1 Axes>"
      ]
     },
     "metadata": {
      "needs_background": "light"
     },
     "output_type": "display_data"
    }
   ],
   "source": [
    "sns.distplot(test['total_distance'],hist=True)"
   ]
  },
  {
   "cell_type": "code",
   "execution_count": 26,
   "id": "b8d29b34",
   "metadata": {
    "execution": {
     "iopub.execute_input": "2022-09-25T05:02:02.167851Z",
     "iopub.status.busy": "2022-09-25T05:02:02.167445Z",
     "iopub.status.idle": "2022-09-25T05:02:04.378891Z",
     "shell.execute_reply": "2022-09-25T05:02:04.377064Z"
    },
    "papermill": {
     "duration": 2.229009,
     "end_time": "2022-09-25T05:02:04.381503",
     "exception": false,
     "start_time": "2022-09-25T05:02:02.152494",
     "status": "completed"
    },
    "tags": []
   },
   "outputs": [
    {
     "name": "stderr",
     "output_type": "stream",
     "text": [
      "/opt/conda/lib/python3.7/site-packages/seaborn/distributions.py:2619: FutureWarning: `distplot` is a deprecated function and will be removed in a future version. Please adapt your code to use either `displot` (a figure-level function with similar flexibility) or `histplot` (an axes-level function for histograms).\n",
      "  warnings.warn(msg, FutureWarning)\n"
     ]
    },
    {
     "data": {
      "text/plain": [
       "<AxesSubplot:xlabel='total_distance', ylabel='Density'>"
      ]
     },
     "execution_count": 26,
     "metadata": {},
     "output_type": "execute_result"
    },
    {
     "data": {
      "image/png": "[encoded data removed]",
      "text/plain": [
       "<Figure size 432x288 with 1 Axes>"
      ]
     },
     "metadata": {
      "needs_background": "light"
     },
     "output_type": "display_data"
    }
   ],
   "source": [
    "sns.distplot(np.sqrt(df['total_distance']),hist=True)\n",
    "\n"
   ]
  },
  {
   "cell_type": "code",
   "execution_count": 27,
   "id": "988a44f9",
   "metadata": {
    "execution": {
     "iopub.execute_input": "2022-09-25T05:02:04.413877Z",
     "iopub.status.busy": "2022-09-25T05:02:04.412900Z",
     "iopub.status.idle": "2022-09-25T05:02:04.436247Z",
     "shell.execute_reply": "2022-09-25T05:02:04.435406Z"
    },
    "papermill": {
     "duration": 0.042209,
     "end_time": "2022-09-25T05:02:04.438604",
     "exception": false,
     "start_time": "2022-09-25T05:02:04.396395",
     "status": "completed"
    },
    "tags": []
   },
   "outputs": [
    {
     "data": {
      "text/html": [
       "<div>\n",
       "<style scoped>\n",
       "    .dataframe tbody tr th:only-of-type {\n",
       "        vertical-align: middle;\n",
       "    }\n",
       "\n",
       "    .dataframe tbody tr th {\n",
       "        vertical-align: top;\n",
       "    }\n",
       "\n",
       "    .dataframe thead th {\n",
       "        text-align: right;\n",
       "    }\n",
       "</style>\n",
       "<table border=\"1\" class=\"dataframe\">\n",
       "  <thead>\n",
       "    <tr style=\"text-align: right;\">\n",
       "      <th></th>\n",
       "      <th>order_id</th>\n",
       "      <th>gender</th>\n",
       "      <th>transport_id</th>\n",
       "      <th>customer_care_calls</th>\n",
       "      <th>membership</th>\n",
       "      <th>product_importan</th>\n",
       "      <th>lifetime_order_count</th>\n",
       "      <th>undelivered_orders</th>\n",
       "      <th>dissatisfaction</th>\n",
       "      <th>order_allot_time</th>\n",
       "      <th>total_distance</th>\n",
       "      <th>orders_count</th>\n",
       "    </tr>\n",
       "  </thead>\n",
       "  <tbody>\n",
       "    <tr>\n",
       "      <th>0</th>\n",
       "      <td>1003450</td>\n",
       "      <td>1</td>\n",
       "      <td>11696</td>\n",
       "      <td>5.0</td>\n",
       "      <td>0</td>\n",
       "      <td>1</td>\n",
       "      <td>621.0</td>\n",
       "      <td>0.0</td>\n",
       "      <td>0</td>\n",
       "      <td>0.0</td>\n",
       "      <td>55.416</td>\n",
       "      <td>0.0</td>\n",
       "    </tr>\n",
       "    <tr>\n",
       "      <th>1</th>\n",
       "      <td>1003451</td>\n",
       "      <td>0</td>\n",
       "      <td>18117</td>\n",
       "      <td>4.0</td>\n",
       "      <td>1</td>\n",
       "      <td>2</td>\n",
       "      <td>105.0</td>\n",
       "      <td>0.0</td>\n",
       "      <td>0</td>\n",
       "      <td>0.0</td>\n",
       "      <td>66.607</td>\n",
       "      <td>0.0</td>\n",
       "    </tr>\n",
       "    <tr>\n",
       "      <th>2</th>\n",
       "      <td>1003452</td>\n",
       "      <td>1</td>\n",
       "      <td>18623</td>\n",
       "      <td>2.0</td>\n",
       "      <td>0</td>\n",
       "      <td>2</td>\n",
       "      <td>66.0</td>\n",
       "      <td>0.0</td>\n",
       "      <td>0</td>\n",
       "      <td>0.0</td>\n",
       "      <td>94.074</td>\n",
       "      <td>0.0</td>\n",
       "    </tr>\n",
       "    <tr>\n",
       "      <th>3</th>\n",
       "      <td>1003453</td>\n",
       "      <td>1</td>\n",
       "      <td>15945</td>\n",
       "      <td>5.0</td>\n",
       "      <td>1</td>\n",
       "      <td>1</td>\n",
       "      <td>127.0</td>\n",
       "      <td>0.0</td>\n",
       "      <td>0</td>\n",
       "      <td>60.0</td>\n",
       "      <td>117.594</td>\n",
       "      <td>0.0</td>\n",
       "    </tr>\n",
       "    <tr>\n",
       "      <th>4</th>\n",
       "      <td>1003454</td>\n",
       "      <td>0</td>\n",
       "      <td>17589</td>\n",
       "      <td>0.0</td>\n",
       "      <td>0</td>\n",
       "      <td>1</td>\n",
       "      <td>84.0</td>\n",
       "      <td>0.0</td>\n",
       "      <td>0</td>\n",
       "      <td>60.0</td>\n",
       "      <td>88.020</td>\n",
       "      <td>0.0</td>\n",
       "    </tr>\n",
       "    <tr>\n",
       "      <th>...</th>\n",
       "      <td>...</td>\n",
       "      <td>...</td>\n",
       "      <td>...</td>\n",
       "      <td>...</td>\n",
       "      <td>...</td>\n",
       "      <td>...</td>\n",
       "      <td>...</td>\n",
       "      <td>...</td>\n",
       "      <td>...</td>\n",
       "      <td>...</td>\n",
       "      <td>...</td>\n",
       "      <td>...</td>\n",
       "    </tr>\n",
       "    <tr>\n",
       "      <th>110395</th>\n",
       "      <td>1453445</td>\n",
       "      <td>0</td>\n",
       "      <td>1006</td>\n",
       "      <td>5.0</td>\n",
       "      <td>0</td>\n",
       "      <td>2</td>\n",
       "      <td>127.0</td>\n",
       "      <td>0.0</td>\n",
       "      <td>0</td>\n",
       "      <td>0.0</td>\n",
       "      <td>8.639</td>\n",
       "      <td>0.0</td>\n",
       "    </tr>\n",
       "    <tr>\n",
       "      <th>110396</th>\n",
       "      <td>1453446</td>\n",
       "      <td>1</td>\n",
       "      <td>279</td>\n",
       "      <td>3.0</td>\n",
       "      <td>1</td>\n",
       "      <td>1</td>\n",
       "      <td>105.0</td>\n",
       "      <td>0.0</td>\n",
       "      <td>0</td>\n",
       "      <td>0.0</td>\n",
       "      <td>37.713</td>\n",
       "      <td>0.0</td>\n",
       "    </tr>\n",
       "    <tr>\n",
       "      <th>110397</th>\n",
       "      <td>1453447</td>\n",
       "      <td>0</td>\n",
       "      <td>3161</td>\n",
       "      <td>4.0</td>\n",
       "      <td>0</td>\n",
       "      <td>0</td>\n",
       "      <td>1488.0</td>\n",
       "      <td>0.0</td>\n",
       "      <td>0</td>\n",
       "      <td>60.0</td>\n",
       "      <td>40.094</td>\n",
       "      <td>0.0</td>\n",
       "    </tr>\n",
       "    <tr>\n",
       "      <th>110398</th>\n",
       "      <td>1453448</td>\n",
       "      <td>1</td>\n",
       "      <td>9396</td>\n",
       "      <td>1.0</td>\n",
       "      <td>1</td>\n",
       "      <td>0</td>\n",
       "      <td>105.0</td>\n",
       "      <td>0.0</td>\n",
       "      <td>0</td>\n",
       "      <td>0.0</td>\n",
       "      <td>99.139</td>\n",
       "      <td>0.0</td>\n",
       "    </tr>\n",
       "    <tr>\n",
       "      <th>110399</th>\n",
       "      <td>1453449</td>\n",
       "      <td>0</td>\n",
       "      <td>2078</td>\n",
       "      <td>4.0</td>\n",
       "      <td>1</td>\n",
       "      <td>0</td>\n",
       "      <td>108.0</td>\n",
       "      <td>0.0</td>\n",
       "      <td>0</td>\n",
       "      <td>0.0</td>\n",
       "      <td>20.275</td>\n",
       "      <td>0.0</td>\n",
       "    </tr>\n",
       "  </tbody>\n",
       "</table>\n",
       "<p>450000 rows × 12 columns</p>\n",
       "</div>"
      ],
      "text/plain": [
       "        order_id  gender  transport_id  customer_care_calls  membership  \\\n",
       "0        1003450       1         11696                  5.0           0   \n",
       "1        1003451       0         18117                  4.0           1   \n",
       "2        1003452       1         18623                  2.0           0   \n",
       "3        1003453       1         15945                  5.0           1   \n",
       "4        1003454       0         17589                  0.0           0   \n",
       "...          ...     ...           ...                  ...         ...   \n",
       "110395   1453445       0          1006                  5.0           0   \n",
       "110396   1453446       1           279                  3.0           1   \n",
       "110397   1453447       0          3161                  4.0           0   \n",
       "110398   1453448       1          9396                  1.0           1   \n",
       "110399   1453449       0          2078                  4.0           1   \n",
       "\n",
       "        product_importan  lifetime_order_count  undelivered_orders  \\\n",
       "0                      1                 621.0                 0.0   \n",
       "1                      2                 105.0                 0.0   \n",
       "2                      2                  66.0                 0.0   \n",
       "3                      1                 127.0                 0.0   \n",
       "4                      1                  84.0                 0.0   \n",
       "...                  ...                   ...                 ...   \n",
       "110395                 2                 127.0                 0.0   \n",
       "110396                 1                 105.0                 0.0   \n",
       "110397                 0                1488.0                 0.0   \n",
       "110398                 0                 105.0                 0.0   \n",
       "110399                 0                 108.0                 0.0   \n",
       "\n",
       "        dissatisfaction  order_allot_time  total_distance  orders_count  \n",
       "0                     0               0.0          55.416           0.0  \n",
       "1                     0               0.0          66.607           0.0  \n",
       "2                     0               0.0          94.074           0.0  \n",
       "3                     0              60.0         117.594           0.0  \n",
       "4                     0              60.0          88.020           0.0  \n",
       "...                 ...               ...             ...           ...  \n",
       "110395                0               0.0           8.639           0.0  \n",
       "110396                0               0.0          37.713           0.0  \n",
       "110397                0              60.0          40.094           0.0  \n",
       "110398                0               0.0          99.139           0.0  \n",
       "110399                0               0.0          20.275           0.0  \n",
       "\n",
       "[450000 rows x 12 columns]"
      ]
     },
     "execution_count": 27,
     "metadata": {},
     "output_type": "execute_result"
    }
   ],
   "source": [
    "df"
   ]
  },
  {
   "cell_type": "code",
   "execution_count": 28,
   "id": "5786c1a6",
   "metadata": {
    "execution": {
     "iopub.execute_input": "2022-09-25T05:02:04.469873Z",
     "iopub.status.busy": "2022-09-25T05:02:04.469002Z",
     "iopub.status.idle": "2022-09-25T05:02:06.521415Z",
     "shell.execute_reply": "2022-09-25T05:02:06.519936Z"
    },
    "papermill": {
     "duration": 2.070784,
     "end_time": "2022-09-25T05:02:06.523944",
     "exception": false,
     "start_time": "2022-09-25T05:02:04.453160",
     "status": "completed"
    },
    "tags": []
   },
   "outputs": [
    {
     "name": "stderr",
     "output_type": "stream",
     "text": [
      "/opt/conda/lib/python3.7/site-packages/seaborn/distributions.py:2619: FutureWarning: `distplot` is a deprecated function and will be removed in a future version. Please adapt your code to use either `displot` (a figure-level function with similar flexibility) or `histplot` (an axes-level function for histograms).\n",
      "  warnings.warn(msg, FutureWarning)\n"
     ]
    },
    {
     "data": {
      "text/plain": [
       "<AxesSubplot:xlabel='customer_care_calls', ylabel='Density'>"
      ]
     },
     "execution_count": 28,
     "metadata": {},
     "output_type": "execute_result"
    },
    {
     "data": {
      "image/png": "[encoded data removed]",
      "text/plain": [
       "<Figure size 432x288 with 1 Axes>"
      ]
     },
     "metadata": {
      "needs_background": "light"
     },
     "output_type": "display_data"
    }
   ],
   "source": [
    "sns.distplot(df['customer_care_calls'],hist=True)"
   ]
  },
  {
   "cell_type": "code",
   "execution_count": 29,
   "id": "44a6844c",
   "metadata": {
    "execution": {
     "iopub.execute_input": "2022-09-25T05:02:06.564846Z",
     "iopub.status.busy": "2022-09-25T05:02:06.564358Z",
     "iopub.status.idle": "2022-09-25T05:02:08.725754Z",
     "shell.execute_reply": "2022-09-25T05:02:08.723938Z"
    },
    "papermill": {
     "duration": 2.182628,
     "end_time": "2022-09-25T05:02:08.728641",
     "exception": false,
     "start_time": "2022-09-25T05:02:06.546013",
     "status": "completed"
    },
    "tags": []
   },
   "outputs": [
    {
     "name": "stderr",
     "output_type": "stream",
     "text": [
      "/opt/conda/lib/python3.7/site-packages/seaborn/distributions.py:2619: FutureWarning: `distplot` is a deprecated function and will be removed in a future version. Please adapt your code to use either `displot` (a figure-level function with similar flexibility) or `histplot` (an axes-level function for histograms).\n",
      "  warnings.warn(msg, FutureWarning)\n"
     ]
    },
    {
     "data": {
      "text/plain": [
       "<AxesSubplot:xlabel='lifetime_order_count', ylabel='Density'>"
      ]
     },
     "execution_count": 29,
     "metadata": {},
     "output_type": "execute_result"
    },
    {
     "data": {
      "image/png": "[encoded data removed]",
      "text/plain": [
       "<Figure size 432x288 with 1 Axes>"
      ]
     },
     "metadata": {
      "needs_background": "light"
     },
     "output_type": "display_data"
    }
   ],
   "source": [
    "sns.distplot(np.cbrt(df['lifetime_order_count']),hist=True)"
   ]
  },
  {
   "cell_type": "code",
   "execution_count": 30,
   "id": "7edb87bc",
   "metadata": {
    "execution": {
     "iopub.execute_input": "2022-09-25T05:02:08.762366Z",
     "iopub.status.busy": "2022-09-25T05:02:08.761955Z",
     "iopub.status.idle": "2022-09-25T05:02:09.525622Z",
     "shell.execute_reply": "2022-09-25T05:02:09.524519Z"
    },
    "papermill": {
     "duration": 0.783052,
     "end_time": "2022-09-25T05:02:09.528033",
     "exception": false,
     "start_time": "2022-09-25T05:02:08.744981",
     "status": "completed"
    },
    "tags": []
   },
   "outputs": [
    {
     "name": "stderr",
     "output_type": "stream",
     "text": [
      "/opt/conda/lib/python3.7/site-packages/seaborn/distributions.py:2619: FutureWarning: `distplot` is a deprecated function and will be removed in a future version. Please adapt your code to use either `displot` (a figure-level function with similar flexibility) or `histplot` (an axes-level function for histograms).\n",
      "  warnings.warn(msg, FutureWarning)\n"
     ]
    },
    {
     "data": {
      "text/plain": [
       "<AxesSubplot:xlabel='lifetime_order_count', ylabel='Density'>"
      ]
     },
     "execution_count": 30,
     "metadata": {},
     "output_type": "execute_result"
    },
    {
     "data": {
      "image/png": "[encoded data removed]",
      "text/plain": [
       "<Figure size 432x288 with 1 Axes>"
      ]
     },
     "metadata": {
      "needs_background": "light"
     },
     "output_type": "display_data"
    }
   ],
   "source": [
    "sns.distplot(np.sqrt(test['lifetime_order_count']),hist=True)"
   ]
  },
  {
   "cell_type": "code",
   "execution_count": null,
   "id": "d9c3da8a",
   "metadata": {
    "papermill": {
     "duration": 0.015401,
     "end_time": "2022-09-25T05:02:09.559387",
     "exception": false,
     "start_time": "2022-09-25T05:02:09.543986",
     "status": "completed"
    },
    "tags": []
   },
   "outputs": [],
   "source": []
  },
  {
   "cell_type": "code",
   "execution_count": 31,
   "id": "1a87bb41",
   "metadata": {
    "execution": {
     "iopub.execute_input": "2022-09-25T05:02:09.593392Z",
     "iopub.status.busy": "2022-09-25T05:02:09.592434Z",
     "iopub.status.idle": "2022-09-25T05:02:09.596799Z",
     "shell.execute_reply": "2022-09-25T05:02:09.595963Z"
    },
    "papermill": {
     "duration": 0.023832,
     "end_time": "2022-09-25T05:02:09.598968",
     "exception": false,
     "start_time": "2022-09-25T05:02:09.575136",
     "status": "completed"
    },
    "tags": []
   },
   "outputs": [],
   "source": [
    "#target_0 = df.loc[df.dissatisfaction==0].sample(5218)\n",
    "#target_1 =  df.loc[df.dissatisfaction==1]\n",
    "#feature = pd.concat([target_0,target_1]).sample(frac = 1.)\n",
    "feature=df"
   ]
  },
  {
   "cell_type": "code",
   "execution_count": 32,
   "id": "014c7b40",
   "metadata": {
    "execution": {
     "iopub.execute_input": "2022-09-25T05:02:09.632759Z",
     "iopub.status.busy": "2022-09-25T05:02:09.632028Z",
     "iopub.status.idle": "2022-09-25T05:02:09.645542Z",
     "shell.execute_reply": "2022-09-25T05:02:09.644355Z"
    },
    "papermill": {
     "duration": 0.033398,
     "end_time": "2022-09-25T05:02:09.648197",
     "exception": false,
     "start_time": "2022-09-25T05:02:09.614799",
     "status": "completed"
    },
    "tags": []
   },
   "outputs": [],
   "source": [
    "features=feature.drop(columns=['dissatisfaction'])"
   ]
  },
  {
   "cell_type": "code",
   "execution_count": 33,
   "id": "acaa8ee4",
   "metadata": {
    "execution": {
     "iopub.execute_input": "2022-09-25T05:02:09.682136Z",
     "iopub.status.busy": "2022-09-25T05:02:09.681139Z",
     "iopub.status.idle": "2022-09-25T05:02:09.685893Z",
     "shell.execute_reply": "2022-09-25T05:02:09.685116Z"
    },
    "papermill": {
     "duration": 0.023925,
     "end_time": "2022-09-25T05:02:09.687962",
     "exception": false,
     "start_time": "2022-09-25T05:02:09.664037",
     "status": "completed"
    },
    "tags": []
   },
   "outputs": [],
   "source": [
    "target=feature['dissatisfaction']"
   ]
  },
  {
   "cell_type": "code",
   "execution_count": null,
   "id": "f6d1cb6a",
   "metadata": {
    "papermill": {
     "duration": 0.015255,
     "end_time": "2022-09-25T05:02:09.719030",
     "exception": false,
     "start_time": "2022-09-25T05:02:09.703775",
     "status": "completed"
    },
    "tags": []
   },
   "outputs": [],
   "source": []
  },
  {
   "cell_type": "code",
   "execution_count": 34,
   "id": "bff0718c",
   "metadata": {
    "execution": {
     "iopub.execute_input": "2022-09-25T05:02:09.751961Z",
     "iopub.status.busy": "2022-09-25T05:02:09.751522Z",
     "iopub.status.idle": "2022-09-25T05:02:09.758442Z",
     "shell.execute_reply": "2022-09-25T05:02:09.757588Z"
    },
    "papermill": {
     "duration": 0.02591,
     "end_time": "2022-09-25T05:02:09.760440",
     "exception": false,
     "start_time": "2022-09-25T05:02:09.734530",
     "status": "completed"
    },
    "tags": []
   },
   "outputs": [
    {
     "data": {
      "text/plain": [
       "86.23993867382138"
      ]
     },
     "execution_count": 34,
     "metadata": {},
     "output_type": "execute_result"
    }
   ],
   "source": [
    "1/(np.sum(df['dissatisfaction'])/len(df['dissatisfaction']))"
   ]
  },
  {
   "cell_type": "code",
   "execution_count": 35,
   "id": "d86055d6",
   "metadata": {
    "execution": {
     "iopub.execute_input": "2022-09-25T05:02:09.794562Z",
     "iopub.status.busy": "2022-09-25T05:02:09.793888Z",
     "iopub.status.idle": "2022-09-25T05:02:41.910463Z",
     "shell.execute_reply": "2022-09-25T05:02:41.909044Z"
    },
    "papermill": {
     "duration": 32.150281,
     "end_time": "2022-09-25T05:02:41.926845",
     "exception": false,
     "start_time": "2022-09-25T05:02:09.776564",
     "status": "completed"
    },
    "tags": []
   },
   "outputs": [
    {
     "data": {
      "text/plain": [
       "XGBClassifier(base_score=0.5, booster='gbtree', callbacks=None,\n",
       "              colsample_bylevel=1, colsample_bynode=1, colsample_bytree=1,\n",
       "              early_stopping_rounds=None, enable_categorical=False,\n",
       "              eval_metric=None, gamma=0, gpu_id=-1, grow_policy='depthwise',\n",
       "              importance_type=None, interaction_constraints='',\n",
       "              learning_rate=0.300000012, max_bin=256, max_cat_to_onehot=4,\n",
       "              max_delta_step=0, max_depth=6, max_leaves=0, min_child_weight=1,\n",
       "              missing=nan, monotone_constraints='()', n_estimators=100,\n",
       "              n_jobs=0, num_parallel_tree=1, predictor='auto', random_state=0,\n",
       "              reg_alpha=0, reg_lambda=1, ...)"
      ]
     },
     "execution_count": 35,
     "metadata": {},
     "output_type": "execute_result"
    }
   ],
   "source": [
    "from xgboost import XGBClassifier\n",
    "model=XGBClassifier(scale_pos_weight=87)\n",
    "model.fit(features,target)"
   ]
  },
  {
   "cell_type": "code",
   "execution_count": 36,
   "id": "f47bd3bd",
   "metadata": {
    "execution": {
     "iopub.execute_input": "2022-09-25T05:02:41.960377Z",
     "iopub.status.busy": "2022-09-25T05:02:41.959966Z",
     "iopub.status.idle": "2022-09-25T05:02:41.968290Z",
     "shell.execute_reply": "2022-09-25T05:02:41.967176Z"
    },
    "papermill": {
     "duration": 0.027809,
     "end_time": "2022-09-25T05:02:41.970499",
     "exception": false,
     "start_time": "2022-09-25T05:02:41.942690",
     "status": "completed"
    },
    "tags": []
   },
   "outputs": [],
   "source": [
    "xtest=test.drop(columns=['dissatisfaction'])\n",
    "ytest=test['dissatisfaction']"
   ]
  },
  {
   "cell_type": "code",
   "execution_count": 37,
   "id": "ca4d74f4",
   "metadata": {
    "execution": {
     "iopub.execute_input": "2022-09-25T05:02:42.004516Z",
     "iopub.status.busy": "2022-09-25T05:02:42.004088Z",
     "iopub.status.idle": "2022-09-25T05:02:42.013310Z",
     "shell.execute_reply": "2022-09-25T05:02:42.012249Z"
    },
    "papermill": {
     "duration": 0.029038,
     "end_time": "2022-09-25T05:02:42.015659",
     "exception": false,
     "start_time": "2022-09-25T05:02:41.986621",
     "status": "completed"
    },
    "tags": []
   },
   "outputs": [
    {
     "data": {
      "text/plain": [
       "0    109187\n",
       "1      1213\n",
       "Name: dissatisfaction, dtype: int64"
      ]
     },
     "execution_count": 37,
     "metadata": {},
     "output_type": "execute_result"
    }
   ],
   "source": [
    "test['dissatisfaction'].value_counts()"
   ]
  },
  {
   "cell_type": "code",
   "execution_count": 38,
   "id": "985c86df",
   "metadata": {
    "execution": {
     "iopub.execute_input": "2022-09-25T05:02:42.050996Z",
     "iopub.status.busy": "2022-09-25T05:02:42.050569Z",
     "iopub.status.idle": "2022-09-25T05:02:42.073398Z",
     "shell.execute_reply": "2022-09-25T05:02:42.072218Z"
    },
    "papermill": {
     "duration": 0.043476,
     "end_time": "2022-09-25T05:02:42.075635",
     "exception": false,
     "start_time": "2022-09-25T05:02:42.032159",
     "status": "completed"
    },
    "tags": []
   },
   "outputs": [
    {
     "data": {
      "text/html": [
       "<div>\n",
       "<style scoped>\n",
       "    .dataframe tbody tr th:only-of-type {\n",
       "        vertical-align: middle;\n",
       "    }\n",
       "\n",
       "    .dataframe tbody tr th {\n",
       "        vertical-align: top;\n",
       "    }\n",
       "\n",
       "    .dataframe thead th {\n",
       "        text-align: right;\n",
       "    }\n",
       "</style>\n",
       "<table border=\"1\" class=\"dataframe\">\n",
       "  <thead>\n",
       "    <tr style=\"text-align: right;\">\n",
       "      <th></th>\n",
       "      <th>order_id</th>\n",
       "      <th>gender</th>\n",
       "      <th>transport_id</th>\n",
       "      <th>customer_care_calls</th>\n",
       "      <th>membership</th>\n",
       "      <th>product_importan</th>\n",
       "      <th>lifetime_order_count</th>\n",
       "      <th>undelivered_orders</th>\n",
       "      <th>order_allot_time</th>\n",
       "      <th>total_distance</th>\n",
       "      <th>orders_count</th>\n",
       "    </tr>\n",
       "  </thead>\n",
       "  <tbody>\n",
       "    <tr>\n",
       "      <th>0</th>\n",
       "      <td>1343050</td>\n",
       "      <td>1</td>\n",
       "      <td>14480</td>\n",
       "      <td>4</td>\n",
       "      <td>0</td>\n",
       "      <td>2</td>\n",
       "      <td>357.0</td>\n",
       "      <td>2.0</td>\n",
       "      <td>0.0</td>\n",
       "      <td>51.809</td>\n",
       "      <td>2.0</td>\n",
       "    </tr>\n",
       "    <tr>\n",
       "      <th>1</th>\n",
       "      <td>1343051</td>\n",
       "      <td>0</td>\n",
       "      <td>14594</td>\n",
       "      <td>2</td>\n",
       "      <td>1</td>\n",
       "      <td>2</td>\n",
       "      <td>253.0</td>\n",
       "      <td>0.0</td>\n",
       "      <td>0.0</td>\n",
       "      <td>80.647</td>\n",
       "      <td>0.0</td>\n",
       "    </tr>\n",
       "    <tr>\n",
       "      <th>2</th>\n",
       "      <td>1343052</td>\n",
       "      <td>0</td>\n",
       "      <td>5486</td>\n",
       "      <td>2</td>\n",
       "      <td>1</td>\n",
       "      <td>2</td>\n",
       "      <td>2229.0</td>\n",
       "      <td>4.0</td>\n",
       "      <td>0.0</td>\n",
       "      <td>40.743</td>\n",
       "      <td>4.0</td>\n",
       "    </tr>\n",
       "    <tr>\n",
       "      <th>3</th>\n",
       "      <td>1343053</td>\n",
       "      <td>0</td>\n",
       "      <td>11578</td>\n",
       "      <td>3</td>\n",
       "      <td>1</td>\n",
       "      <td>1</td>\n",
       "      <td>161.0</td>\n",
       "      <td>0.0</td>\n",
       "      <td>0.0</td>\n",
       "      <td>44.388</td>\n",
       "      <td>0.0</td>\n",
       "    </tr>\n",
       "    <tr>\n",
       "      <th>4</th>\n",
       "      <td>1343054</td>\n",
       "      <td>0</td>\n",
       "      <td>2322</td>\n",
       "      <td>1</td>\n",
       "      <td>0</td>\n",
       "      <td>1</td>\n",
       "      <td>65.0</td>\n",
       "      <td>0.0</td>\n",
       "      <td>0.0</td>\n",
       "      <td>55.901</td>\n",
       "      <td>0.0</td>\n",
       "    </tr>\n",
       "    <tr>\n",
       "      <th>...</th>\n",
       "      <td>...</td>\n",
       "      <td>...</td>\n",
       "      <td>...</td>\n",
       "      <td>...</td>\n",
       "      <td>...</td>\n",
       "      <td>...</td>\n",
       "      <td>...</td>\n",
       "      <td>...</td>\n",
       "      <td>...</td>\n",
       "      <td>...</td>\n",
       "      <td>...</td>\n",
       "    </tr>\n",
       "    <tr>\n",
       "      <th>110395</th>\n",
       "      <td>1453445</td>\n",
       "      <td>0</td>\n",
       "      <td>1006</td>\n",
       "      <td>5</td>\n",
       "      <td>0</td>\n",
       "      <td>2</td>\n",
       "      <td>127.0</td>\n",
       "      <td>0.0</td>\n",
       "      <td>0.0</td>\n",
       "      <td>8.639</td>\n",
       "      <td>0.0</td>\n",
       "    </tr>\n",
       "    <tr>\n",
       "      <th>110396</th>\n",
       "      <td>1453446</td>\n",
       "      <td>1</td>\n",
       "      <td>279</td>\n",
       "      <td>3</td>\n",
       "      <td>1</td>\n",
       "      <td>1</td>\n",
       "      <td>105.0</td>\n",
       "      <td>0.0</td>\n",
       "      <td>0.0</td>\n",
       "      <td>37.713</td>\n",
       "      <td>0.0</td>\n",
       "    </tr>\n",
       "    <tr>\n",
       "      <th>110397</th>\n",
       "      <td>1453447</td>\n",
       "      <td>0</td>\n",
       "      <td>3161</td>\n",
       "      <td>4</td>\n",
       "      <td>0</td>\n",
       "      <td>0</td>\n",
       "      <td>1488.0</td>\n",
       "      <td>0.0</td>\n",
       "      <td>60.0</td>\n",
       "      <td>40.094</td>\n",
       "      <td>0.0</td>\n",
       "    </tr>\n",
       "    <tr>\n",
       "      <th>110398</th>\n",
       "      <td>1453448</td>\n",
       "      <td>1</td>\n",
       "      <td>9396</td>\n",
       "      <td>1</td>\n",
       "      <td>1</td>\n",
       "      <td>0</td>\n",
       "      <td>105.0</td>\n",
       "      <td>0.0</td>\n",
       "      <td>0.0</td>\n",
       "      <td>99.139</td>\n",
       "      <td>0.0</td>\n",
       "    </tr>\n",
       "    <tr>\n",
       "      <th>110399</th>\n",
       "      <td>1453449</td>\n",
       "      <td>0</td>\n",
       "      <td>2078</td>\n",
       "      <td>4</td>\n",
       "      <td>1</td>\n",
       "      <td>0</td>\n",
       "      <td>108.0</td>\n",
       "      <td>0.0</td>\n",
       "      <td>0.0</td>\n",
       "      <td>20.275</td>\n",
       "      <td>0.0</td>\n",
       "    </tr>\n",
       "  </tbody>\n",
       "</table>\n",
       "<p>110400 rows × 11 columns</p>\n",
       "</div>"
      ],
      "text/plain": [
       "        order_id  gender  transport_id  customer_care_calls  membership  \\\n",
       "0        1343050       1         14480                    4           0   \n",
       "1        1343051       0         14594                    2           1   \n",
       "2        1343052       0          5486                    2           1   \n",
       "3        1343053       0         11578                    3           1   \n",
       "4        1343054       0          2322                    1           0   \n",
       "...          ...     ...           ...                  ...         ...   \n",
       "110395   1453445       0          1006                    5           0   \n",
       "110396   1453446       1           279                    3           1   \n",
       "110397   1453447       0          3161                    4           0   \n",
       "110398   1453448       1          9396                    1           1   \n",
       "110399   1453449       0          2078                    4           1   \n",
       "\n",
       "        product_importan  lifetime_order_count  undelivered_orders  \\\n",
       "0                      2                 357.0                 2.0   \n",
       "1                      2                 253.0                 0.0   \n",
       "2                      2                2229.0                 4.0   \n",
       "3                      1                 161.0                 0.0   \n",
       "4                      1                  65.0                 0.0   \n",
       "...                  ...                   ...                 ...   \n",
       "110395                 2                 127.0                 0.0   \n",
       "110396                 1                 105.0                 0.0   \n",
       "110397                 0                1488.0                 0.0   \n",
       "110398                 0                 105.0                 0.0   \n",
       "110399                 0                 108.0                 0.0   \n",
       "\n",
       "        order_allot_time  total_distance  orders_count  \n",
       "0                    0.0          51.809           2.0  \n",
       "1                    0.0          80.647           0.0  \n",
       "2                    0.0          40.743           4.0  \n",
       "3                    0.0          44.388           0.0  \n",
       "4                    0.0          55.901           0.0  \n",
       "...                  ...             ...           ...  \n",
       "110395               0.0           8.639           0.0  \n",
       "110396               0.0          37.713           0.0  \n",
       "110397              60.0          40.094           0.0  \n",
       "110398               0.0          99.139           0.0  \n",
       "110399               0.0          20.275           0.0  \n",
       "\n",
       "[110400 rows x 11 columns]"
      ]
     },
     "execution_count": 38,
     "metadata": {},
     "output_type": "execute_result"
    }
   ],
   "source": [
    "xtest"
   ]
  },
  {
   "cell_type": "code",
   "execution_count": 39,
   "id": "c9f80e36",
   "metadata": {
    "execution": {
     "iopub.execute_input": "2022-09-25T05:02:42.111572Z",
     "iopub.status.busy": "2022-09-25T05:02:42.110445Z",
     "iopub.status.idle": "2022-09-25T05:02:42.234189Z",
     "shell.execute_reply": "2022-09-25T05:02:42.233228Z"
    },
    "papermill": {
     "duration": 0.144417,
     "end_time": "2022-09-25T05:02:42.236820",
     "exception": false,
     "start_time": "2022-09-25T05:02:42.092403",
     "status": "completed"
    },
    "tags": []
   },
   "outputs": [],
   "source": [
    "predicted=model.predict(xtest)"
   ]
  },
  {
   "cell_type": "code",
   "execution_count": 40,
   "id": "883c5701",
   "metadata": {
    "execution": {
     "iopub.execute_input": "2022-09-25T05:02:42.273658Z",
     "iopub.status.busy": "2022-09-25T05:02:42.273271Z",
     "iopub.status.idle": "2022-09-25T05:02:42.290101Z",
     "shell.execute_reply": "2022-09-25T05:02:42.288913Z"
    },
    "papermill": {
     "duration": 0.037091,
     "end_time": "2022-09-25T05:02:42.292480",
     "exception": false,
     "start_time": "2022-09-25T05:02:42.255389",
     "status": "completed"
    },
    "tags": []
   },
   "outputs": [
    {
     "data": {
      "text/plain": [
       "0.8988949275362319"
      ]
     },
     "execution_count": 40,
     "metadata": {},
     "output_type": "execute_result"
    }
   ],
   "source": [
    "from sklearn import metrics\n",
    "metrics.accuracy_score(ytest,predicted)"
   ]
  },
  {
   "cell_type": "code",
   "execution_count": 41,
   "id": "f9974566",
   "metadata": {
    "execution": {
     "iopub.execute_input": "2022-09-25T05:02:42.328059Z",
     "iopub.status.busy": "2022-09-25T05:02:42.327588Z",
     "iopub.status.idle": "2022-09-25T05:02:42.460134Z",
     "shell.execute_reply": "2022-09-25T05:02:42.458983Z"
    },
    "papermill": {
     "duration": 0.153042,
     "end_time": "2022-09-25T05:02:42.462665",
     "exception": false,
     "start_time": "2022-09-25T05:02:42.309623",
     "status": "completed"
    },
    "tags": []
   },
   "outputs": [],
   "source": [
    "my_submission = pd.DataFrame({'order_id': test.order_id, 'dissatisfaction': predicted})\n",
    "# you could use any filename. We choose submission here\n",
    "my_submission.to_csv('submission.csv', index=False)"
   ]
  },
  {
   "cell_type": "code",
   "execution_count": 42,
   "id": "4c7ddceb",
   "metadata": {
    "execution": {
     "iopub.execute_input": "2022-09-25T05:02:42.498152Z",
     "iopub.status.busy": "2022-09-25T05:02:42.497741Z",
     "iopub.status.idle": "2022-09-25T05:02:42.507249Z",
     "shell.execute_reply": "2022-09-25T05:02:42.506129Z"
    },
    "papermill": {
     "duration": 0.030029,
     "end_time": "2022-09-25T05:02:42.509440",
     "exception": false,
     "start_time": "2022-09-25T05:02:42.479411",
     "status": "completed"
    },
    "tags": []
   },
   "outputs": [
    {
     "data": {
      "text/plain": [
       "0    98647\n",
       "1    11753\n",
       "Name: dissatisfaction, dtype: int64"
      ]
     },
     "execution_count": 42,
     "metadata": {},
     "output_type": "execute_result"
    }
   ],
   "source": [
    "my_submission['dissatisfaction'].value_counts()"
   ]
  },
  {
   "cell_type": "code",
   "execution_count": null,
   "id": "ca4d218d",
   "metadata": {
    "papermill": {
     "duration": 0.016136,
     "end_time": "2022-09-25T05:02:42.542290",
     "exception": false,
     "start_time": "2022-09-25T05:02:42.526154",
     "status": "completed"
    },
    "tags": []
   },
   "outputs": [],
   "source": []
  },
  {
   "cell_type": "code",
   "execution_count": null,
   "id": "357c4af2",
   "metadata": {
    "papermill": {
     "duration": 0.016374,
     "end_time": "2022-09-25T05:02:42.575420",
     "exception": false,
     "start_time": "2022-09-25T05:02:42.559046",
     "status": "completed"
    },
    "tags": []
   },
   "outputs": [],
   "source": []
  },
  {
   "cell_type": "code",
   "execution_count": null,
   "id": "26844288",
   "metadata": {
    "papermill": {
     "duration": 0.016173,
     "end_time": "2022-09-25T05:02:42.608356",
     "exception": false,
     "start_time": "2022-09-25T05:02:42.592183",
     "status": "completed"
    },
    "tags": []
   },
   "outputs": [],
   "source": []
  }
 ],
 "metadata": {
  "kernelspec": {
   "display_name": "Python 3",
   "language": "python",
   "name": "python3"
  },
  "language_info": {
   "codemirror_mode": {
    "name": "ipython",
    "version": 3
   },
   "file_extension": ".py",
   "mimetype": "text/x-python",
   "name": "python",
   "nbconvert_exporter": "python",
   "pygments_lexer": "ipython3",
   "version": "3.7.12"
  },
  "papermill": {
   "default_parameters": {},
   "duration": 59.473778,
   "end_time": "2022-09-25T05:02:43.446816",
   "environment_variables": {},
   "exception": null,
   "input_path": "__notebook__.ipynb",
   "output_path": "__notebook__.ipynb",
   "parameters": {},
   "start_time": "2022-09-25T05:01:43.973038",
   "version": "2.3.4"
  }
 },
 "nbformat": 4,
 "nbformat_minor": 5
}
